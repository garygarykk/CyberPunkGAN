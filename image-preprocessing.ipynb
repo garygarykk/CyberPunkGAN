{
 "cells": [
  {
   "cell_type": "code",
   "execution_count": null,
   "id": "033f89fa",
   "metadata": {
    "ExecuteTime": {
     "end_time": "2022-11-20T05:46:47.023986Z",
     "start_time": "2022-11-20T05:46:47.020461Z"
    }
   },
   "outputs": [],
   "source": [
    "import torch\n",
    "import torchvision.transforms as T\n",
    "from PIL import Image\n",
    "import matplotlib.pyplot as plt\n",
    "import os"
   ]
  },
  {
   "cell_type": "markdown",
   "id": "f5e2b7a5",
   "metadata": {},
   "source": [
    "## PNG to JPG"
   ]
  },
  {
   "cell_type": "code",
   "execution_count": null,
   "id": "a93ce6bc",
   "metadata": {
    "ExecuteTime": {
     "end_time": "2022-11-20T05:44:29.131456Z",
     "start_time": "2022-11-20T05:43:55.052963Z"
    }
   },
   "outputs": [],
   "source": [
    "dirname_read = \"neon_img\"\n",
    "dirname_write = \"neon_img_JPG\"\n",
    "names = os.listdir(dirname_read)\n",
    "for name in names:\n",
    "    try:\n",
    "        img = Image.open(dirname_read + name)\n",
    "    except:\n",
    "        continue\n",
    "    img = img.convert(\"RGB\")\n",
    "    name = name.split(\".\")\n",
    "    if name[-1] == \"png\":\n",
    "        name[-1] = \"jpg\"\n",
    "    name = \".\".join(name)\n",
    "    \n",
    "    to_save_path = dirname_write + name\n",
    "    img.save(to_save_path)"
   ]
  },
  {
   "cell_type": "code",
   "execution_count": null,
   "id": "001eba34",
   "metadata": {
    "ExecuteTime": {
     "end_time": "2022-11-20T07:33:35.963217Z",
     "start_time": "2022-11-20T07:11:56.661924Z"
    }
   },
   "outputs": [],
   "source": [
    "dirname_read = \"real_img\"\n",
    "dirname_write = \"real_img_JPG\"\n",
    "names = os.listdir(dirname_read)\n",
    "for name in names:\n",
    "    try:\n",
    "        if float(name.split(\".\")[0].split(\"_\")[-1]) > 5461:\n",
    "            pass\n",
    "        else:\n",
    "            continue\n",
    "    except:\n",
    "        continue\n",
    "        \n",
    "    try:\n",
    "        img = Image.open(dirname_read + name)\n",
    "    except:\n",
    "        continue\n",
    "    img = img.convert(\"RGB\")\n",
    "    name = name.split(\".\")\n",
    "    if name[-1] == \"png\":\n",
    "        name[-1] = \"jpg\"\n",
    "    name = \".\".join(name)\n",
    "    \n",
    "    to_save_path = dirname_write + name\n",
    "    img.save(to_save_path)"
   ]
  },
  {
   "cell_type": "markdown",
   "id": "bf3b715e",
   "metadata": {},
   "source": [
    "## Resize"
   ]
  },
  {
   "cell_type": "code",
   "execution_count": null,
   "id": "fe48090b",
   "metadata": {
    "ExecuteTime": {
     "end_time": "2022-11-20T05:54:42.581888Z",
     "start_time": "2022-11-20T05:54:28.227269Z"
    }
   },
   "outputs": [],
   "source": [
    "dirname_read = \"neon_img_JPG\"\n",
    "dirname_write = \"neon_img_resize\"\n",
    "names = os.listdir(dirname_read)\n",
    "for name in names:\n",
    "    try:\n",
    "        img = Image.open(dirname_read + name)\n",
    "    except:\n",
    "        continue\n",
    "    transform = T.Resize(size=(256, 256))\n",
    "    img = transform(img)\n",
    "    to_save_path = dirname_write + name\n",
    "    img.save(to_save_path)"
   ]
  },
  {
   "cell_type": "code",
   "execution_count": null,
   "id": "b223492e",
   "metadata": {
    "ExecuteTime": {
     "end_time": "2022-11-20T08:34:33.525863Z",
     "start_time": "2022-11-20T08:11:24.399228Z"
    }
   },
   "outputs": [],
   "source": [
    "dirname_read = \"real_img_JPG\"\n",
    "dirname_write = \"real_img_resize\"\n",
    "names = os.listdir(dirname_read)\n",
    "for name in names:\n",
    "    try:\n",
    "        img = Image.open(dirname_read + name)\n",
    "    except:\n",
    "        continue\n",
    "    transform = T.Resize(size=(256, 256))\n",
    "    img = transform(img)\n",
    "    to_save_path = dirname_write + name\n",
    "    img.save(to_save_path)"
   ]
  }
 ],
 "metadata": {
  "kernelspec": {
   "display_name": "Python 3",
   "language": "python",
   "name": "python3"
  },
  "language_info": {
   "codemirror_mode": {
    "name": "ipython",
    "version": 3
   },
   "file_extension": ".py",
   "mimetype": "text/x-python",
   "name": "python",
   "nbconvert_exporter": "python",
   "pygments_lexer": "ipython3",
   "version": "3.6.6"
  },
  "toc": {
   "base_numbering": 1,
   "nav_menu": {},
   "number_sections": false,
   "sideBar": true,
   "skip_h1_title": false,
   "title_cell": "Table of Contents",
   "title_sidebar": "Contents",
   "toc_cell": false,
   "toc_position": {},
   "toc_section_display": true,
   "toc_window_display": true
  },
  "varInspector": {
   "cols": {
    "lenName": 16,
    "lenType": 16,
    "lenVar": 40
   },
   "kernels_config": {
    "python": {
     "delete_cmd_postfix": "",
     "delete_cmd_prefix": "del ",
     "library": "var_list.py",
     "varRefreshCmd": "print(var_dic_list())"
    },
    "r": {
     "delete_cmd_postfix": ") ",
     "delete_cmd_prefix": "rm(",
     "library": "var_list.r",
     "varRefreshCmd": "cat(var_dic_list()) "
    }
   },
   "types_to_exclude": [
    "module",
    "function",
    "builtin_function_or_method",
    "instance",
    "_Feature"
   ],
   "window_display": false
  }
 },
 "nbformat": 4,
 "nbformat_minor": 5
}
