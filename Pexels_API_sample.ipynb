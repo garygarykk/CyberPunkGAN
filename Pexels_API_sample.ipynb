{
 "cells": [
  {
   "cell_type": "code",
   "execution_count": null,
   "id": "13b9f332",
   "metadata": {
    "ExecuteTime": {
     "end_time": "2022-11-20T06:07:57.217256Z",
     "start_time": "2022-11-20T06:07:57.215473Z"
    }
   },
   "outputs": [],
   "source": [
    "from pexels_api import API\n",
    "import requests        \n",
    "import os"
   ]
  },
  {
   "cell_type": "code",
   "execution_count": null,
   "id": "8eeff146",
   "metadata": {
    "ExecuteTime": {
     "end_time": "2022-11-20T09:17:19.115909Z",
     "start_time": "2022-11-20T07:06:31.856921Z"
    },
    "scrolled": true
   },
   "outputs": [],
   "source": [
    "PEXELS_API_KEY = 'xxx'\n",
    "api = API(PEXELS_API_KEY)\n",
    "\n",
    "save_path = \"cyberpunk_img_pexel\"\n",
    "count = 1\n",
    "\n",
    "for n in range(1, 31):\n",
    "    api.search('cyberpunk neon light city', page=n, results_per_page=80)\n",
    "    photos = api.get_entries()\n",
    "    for photo in photos:\n",
    "        img_data = requests.get(photo.original).content\n",
    "        with open(os.path.join(save_path, 'image_name_{}.jpg'.format(count)), 'wb') as handler:\n",
    "            handler.write(img_data)\n",
    "        count += 1"
   ]
  },
  {
   "cell_type": "code",
   "execution_count": null,
   "id": "eee1c99f",
   "metadata": {},
   "outputs": [],
   "source": []
  }
 ],
 "metadata": {
  "kernelspec": {
   "display_name": "Python 3",
   "language": "python",
   "name": "python3"
  },
  "language_info": {
   "codemirror_mode": {
    "name": "ipython",
    "version": 3
   },
   "file_extension": ".py",
   "mimetype": "text/x-python",
   "name": "python",
   "nbconvert_exporter": "python",
   "pygments_lexer": "ipython3",
   "version": "3.6.6"
  },
  "toc": {
   "base_numbering": 1,
   "nav_menu": {},
   "number_sections": true,
   "sideBar": true,
   "skip_h1_title": false,
   "title_cell": "Table of Contents",
   "title_sidebar": "Contents",
   "toc_cell": false,
   "toc_position": {},
   "toc_section_display": true,
   "toc_window_display": false
  },
  "varInspector": {
   "cols": {
    "lenName": 16,
    "lenType": 16,
    "lenVar": 40
   },
   "kernels_config": {
    "python": {
     "delete_cmd_postfix": "",
     "delete_cmd_prefix": "del ",
     "library": "var_list.py",
     "varRefreshCmd": "print(var_dic_list())"
    },
    "r": {
     "delete_cmd_postfix": ") ",
     "delete_cmd_prefix": "rm(",
     "library": "var_list.r",
     "varRefreshCmd": "cat(var_dic_list()) "
    }
   },
   "types_to_exclude": [
    "module",
    "function",
    "builtin_function_or_method",
    "instance",
    "_Feature"
   ],
   "window_display": false
  }
 },
 "nbformat": 4,
 "nbformat_minor": 5
}
